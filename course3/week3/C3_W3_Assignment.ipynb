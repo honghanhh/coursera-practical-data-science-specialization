{
 "cells": [
  {
   "cell_type": "markdown",
   "metadata": {},
   "source": [
    "# Data labeling and human-in-the-loop pipelines with Amazon Augmented AI (A2I)"
   ]
  },
  {
   "cell_type": "markdown",
   "metadata": {},
   "source": [
    "### Introduction\n",
    "\n",
    "In this lab you will create your own human workforce, a human task UI, and then define the human review workflow to perform data labeling. You will make the original predictions of the labels with the custom ML model, and then create a human loop if the probability scores are lower than the preset threshold. After the completion of the human loop tasks, you will review the results and prepare data for re-training.\n",
    "\n",
    "### Table of Contents\n",
    "\n",
    "- [1. Set up Amazon Cognito user pool and define human workforce](#c3w3-1.)\n",
    "  - [1.1. Create Amazon Cognito user pool](#c3w3-1.1.)\n",
    "    - [Exercise 1](#c3w3-ex-1)\n",
    "  - [1.2. Create Amazon Cognito user pool client](#c3w3-1.2.)\n",
    "    - [Exercise 2](#c3w3-ex-2)\n",
    "  - [1.3. Create Amazon Cognito user pool domain and group](#c3w3-1.3.)\n",
    "    - [Exercise 3](#c3w3-ex-3)\n",
    "    - [Exercise 4](#c3w3-ex-4)\n",
    "  - [1.4. Create workforce and workteam](#c3w3-1.4.)\n",
    "    - [Exercise 5](#c3w3-ex-5)\n",
    "    - [Exercise 6](#c3w3-ex-6)\n",
    "  - [1.5. Create an Amazon Cognito user and add the user to the group](#c3w3-1.5.)\n",
    "- [2. Create Human Task UI](#c3w3-2.)\n",
    "  - [Exercise 7](#c3w3-ex-7)\n",
    "- [3. Define human review workflow](#c3w3-3.)\n",
    "  - [Exercise 8](#c3w3-ex-8)\n",
    "- [4. Start human loop with custom ML model](#c3w3-4.)\n",
    "  - [4.1. Deploy a custom model](#c3w3-4.1.)\n",
    "    - [Exercise 9](#c3w3-ex-9)\n",
    "  - [4.2. Start the human loop](#c3w3-4.2.)\n",
    "    - [Exercise 10](#c3w3-ex-10)\n",
    "  - [4.3. Check status of the human loop](#c3w3-4.3.)\n",
    "  - [4.4. Complete the human loop tasks](#c3w3-4.4.)\n",
    "  - [4.5. Verify that the human loops were completed by the workforce](#c3w3-4.5.)\n",
    "  - [4.6. View human labels and prepare the data for re-training](#c3w3-4.6.)"
   ]
  },
  {
   "cell_type": "markdown",
   "metadata": {},
   "source": [
    "Let's install and import the required modules."
   ]
  },
  {
   "cell_type": "code",
   "execution_count": 1,
   "metadata": {},
   "outputs": [
    {
     "name": "stdout",
     "output_type": "stream",
     "text": [
      "/opt/conda/lib/python3.7/site-packages/secretstorage/dhcrypto.py:16: CryptographyDeprecationWarning: int_from_bytes is deprecated, use int.from_bytes instead\n",
      "  from cryptography.utils import int_from_bytes\n",
      "/opt/conda/lib/python3.7/site-packages/secretstorage/util.py:25: CryptographyDeprecationWarning: int_from_bytes is deprecated, use int.from_bytes instead\n",
      "  from cryptography.utils import int_from_bytes\n",
      "\u001b[33mWARNING: Running pip as the 'root' user can result in broken permissions and conflicting behaviour with the system package manager. It is recommended to use a virtual environment instead: https://pip.pypa.io/warnings/venv\u001b[0m\n"
     ]
    }
   ],
   "source": [
    "# please ignore warning messages during the installation\n",
    "!pip install --disable-pip-version-check -q sagemaker==2.35.0"
   ]
  },
  {
   "cell_type": "code",
   "execution_count": 2,
   "metadata": {},
   "outputs": [],
   "source": [
    "import boto3\n",
    "import sagemaker\n",
    "import pandas as pd\n",
    "from pprint import pprint\n",
    "import botocore\n",
    "\n",
    "config = botocore.config.Config(user_agent_extra='dlai-pds/c3/w3')\n",
    "\n",
    "# low-level service client of the boto3 session\n",
    "sm = boto3.client(service_name='sagemaker', \n",
    "                  config=config)\n",
    "\n",
    "sm_runtime = boto3.client('sagemaker-runtime',\n",
    "                          config=config)\n",
    "\n",
    "sess = sagemaker.Session(sagemaker_client=sm,\n",
    "                         sagemaker_runtime_client=sm_runtime)\n",
    "\n",
    "bucket = sess.default_bucket()\n",
    "role = sagemaker.get_execution_role()\n",
    "region = sess.boto_region_name\n",
    "\n",
    "s3 = boto3.Session().client(service_name='s3', \n",
    "                            config=config)\n",
    "cognito_idp = boto3.Session().client(service_name='cognito-idp', \n",
    "                                     config=config)\n",
    "a2i = boto3.Session().client(service_name='sagemaker-a2i-runtime', \n",
    "                             config=config)"
   ]
  },
  {
   "cell_type": "markdown",
   "metadata": {},
   "source": [
    "<a name='c3w3-1.'></a>\n",
    "# 1. Set up Amazon Cognito user pool and define human workforce\n",
    "\n",
    "The first step in the creation of the human-in-the-loop pipeline will be to create your own private workforce.\n",
    "\n",
    "<img src=\"images/human-loop-workflow-1-workforce.png\" width=\"40%\" align=\"center\">\n",
    "\n",
    "Amazon Cognito provides authentication, authorization, and user management for apps. This enables your workers to sign in directly to the labeling UI with a username and password. \n",
    "\n",
    "You will construct an Amazon Cognito user pool, setting up its client, domain, and group. Then you'll create a SageMaker workforce, linking it to the Cognito user pool. Followed by the creation of a SageMaker workteam, linking it to the Cognito user pool and group. And finally, you will create a pool user and add it to the group.\n",
    "\n",
    "To get started, let's construct the user pool and user pool client names."
   ]
  },
  {
   "cell_type": "code",
   "execution_count": 3,
   "metadata": {},
   "outputs": [
    {
     "name": "stdout",
     "output_type": "stream",
     "text": [
      "Amazon Cognito user pool name: groundtruth-user-pool-1631790671\n",
      "Amazon Cognito user pool client name: groundtruth-user-pool-client-1631790671\n"
     ]
    }
   ],
   "source": [
    "import time\n",
    "timestamp = int(time.time())\n",
    "\n",
    "user_pool_name = 'groundtruth-user-pool-{}'.format(timestamp)\n",
    "user_pool_client_name = 'groundtruth-user-pool-client-{}'.format(timestamp)\n",
    "\n",
    "print(\"Amazon Cognito user pool name: {}\".format(user_pool_name))\n",
    "print(\"Amazon Cognito user pool client name: {}\".format(user_pool_client_name))"
   ]
  },
  {
   "cell_type": "markdown",
   "metadata": {},
   "source": [
    "<a name='c3w3-1.1.'></a>\n",
    "### 1.1. Create Amazon Cognito user pool\n",
    "\n",
    "Function `cognito_idp.create_user_pool` creates a new Amazon Cognito user pool. Passing the function result into a variable you can get the information about the response. The result is in dictionary format."
   ]
  },
  {
   "cell_type": "code",
   "execution_count": 4,
   "metadata": {},
   "outputs": [
    {
     "name": "stdout",
     "output_type": "stream",
     "text": [
      "Amazon Cognito user pool ID: us-east-1_rw9sRDG9N\n"
     ]
    }
   ],
   "source": [
    "create_user_pool_response = cognito_idp.create_user_pool(PoolName=user_pool_name)\n",
    "user_pool_id = create_user_pool_response['UserPool']['Id']\n",
    "\n",
    "print(\"Amazon Cognito user pool ID: {}\".format(user_pool_id))"
   ]
  },
  {
   "cell_type": "markdown",
   "metadata": {},
   "source": [
    "<a name='c3w3-ex-1'></a>\n",
    "### Exercise 1\n",
    "\n",
    "Pull the Amazon Cognito user pool name from its description.\n",
    "\n",
    "**Instructions**: Print the keys of the user pool, choose the one that corresponds to the name and print its value."
   ]
  },
  {
   "cell_type": "code",
   "execution_count": 5,
   "metadata": {},
   "outputs": [
    {
     "name": "stdout",
     "output_type": "stream",
     "text": [
      "dict_keys(['Id', 'Name', 'Policies', 'LambdaConfig', 'LastModifiedDate', 'CreationDate', 'SchemaAttributes', 'VerificationMessageTemplate', 'MfaConfiguration', 'EstimatedNumberOfUsers', 'EmailConfiguration', 'AdminCreateUserConfig', 'Arn'])\n"
     ]
    }
   ],
   "source": [
    "print(create_user_pool_response['UserPool'].keys())"
   ]
  },
  {
   "cell_type": "code",
   "execution_count": 6,
   "metadata": {},
   "outputs": [
    {
     "name": "stdout",
     "output_type": "stream",
     "text": [
      "Amazon Cognito user pool name: groundtruth-user-pool-1631790671\n"
     ]
    }
   ],
   "source": [
    "### BEGIN SOLUTION - DO NOT delete this comment for grading purposes\n",
    "user_pool_name = create_user_pool_response['UserPool']['Name'] # Replace all None\n",
    "### END SOLUTION - DO NOT delete this comment for grading purposes\n",
    "print('Amazon Cognito user pool name: {}'.format(user_pool_name))"
   ]
  },
  {
   "cell_type": "markdown",
   "metadata": {},
   "source": [
    "<a name='c3w3-1.2.'></a>\n",
    "### 1.2. Create Amazon Cognito user pool client"
   ]
  },
  {
   "cell_type": "markdown",
   "metadata": {},
   "source": [
    "Now let's set up the Amazon Cognito user pool client for the created above user pool. \n",
    "\n",
    "The Amazon Cognito user pool client implements an open standard for authorization framework, `OAuth`. The standard enables apps to obtain limited access (scopes) to a user’s data without giving away a user’s password. It decouples authentication from authorization and supports multiple use cases addressing different device capabilities."
   ]
  },
  {
   "cell_type": "markdown",
   "metadata": {},
   "source": [
    "<a name='c3w3-ex-2'></a>\n",
    "### Exercise 2\n",
    "\n",
    "Create the Amazon Cognito user pool client for the constructed user pool.\n",
    "\n",
    "**Instructions**: Pass the user pool ID and the user pool client name into the function `cognito_idp.create_user_pool_client`. Review the other parameters of the function."
   ]
  },
  {
   "cell_type": "code",
   "execution_count": 7,
   "metadata": {},
   "outputs": [
    {
     "name": "stdout",
     "output_type": "stream",
     "text": [
      "Amazon Cognito user pool client ID: 7le038ibueq6rau0lu6ipffiok\n"
     ]
    }
   ],
   "source": [
    "### BEGIN SOLUTION - DO NOT delete this comment for grading purposes\n",
    "create_user_pool_client_response = cognito_idp.create_user_pool_client( # Replace None\n",
    "    UserPoolId=user_pool_id, # Replace None\n",
    "    ClientName=user_pool_client_name, # Replace None\n",
    "### END SOLUTION - DO NOT delete this comment for grading purposes\n",
    "    GenerateSecret=True, # boolean to specify whether you want to generate a secret\n",
    "    # a list of provider names for the identity providers that are supported on this client, e.g. Cognito, Facebook, Google\n",
    "    SupportedIdentityProviders=[\n",
    "        'COGNITO' \n",
    "    ],\n",
    "    # a list of the allowed OAuth flows, e.g. code, implicit, client_credentials\n",
    "    AllowedOAuthFlows=[\n",
    "        'code',\n",
    "        'implicit'\n",
    "    ],\n",
    "    # a list of the allowed OAuth scopes, e.g. phone, email, openid, and profile\n",
    "    AllowedOAuthScopes=[\n",
    "        'email',\n",
    "        'openid',\n",
    "        'profile'\n",
    "    ],\n",
    "    # a list of allowed redirect (callback) URLs for the identity providers\n",
    "    CallbackURLs=[\n",
    "        'https://datascienceonaws.com', \n",
    "    ],\n",
    "    # set to true if the client is allowed to follow the OAuth protocol when interacting with Cognito user pools\n",
    "    AllowedOAuthFlowsUserPoolClient=True\n",
    ")\n",
    "\n",
    "client_id = create_user_pool_client_response['UserPoolClient']['ClientId']\n",
    "print('Amazon Cognito user pool client ID: {}'.format(client_id))"
   ]
  },
  {
   "cell_type": "markdown",
   "metadata": {},
   "source": [
    "<a name='c3w3-1.3.'></a>\n",
    "### 1.3. Create Amazon Cognito user pool domain and group"
   ]
  },
  {
   "cell_type": "markdown",
   "metadata": {},
   "source": [
    "<a name='c3w3-ex-3'></a>\n",
    "### Exercise 3\n",
    "\n",
    "Set up the Amazon Cognito user pool domain for the constructed user pool.\n",
    "\n",
    "**Instructions**: Pass the user pool ID and the user pool domain name into the function `cognito_idp.create_user_pool_domain`."
   ]
  },
  {
   "cell_type": "code",
   "execution_count": 8,
   "metadata": {},
   "outputs": [
    {
     "name": "stdout",
     "output_type": "stream",
     "text": [
      "Created Amazon Cognito user pool domain: groundtruth-user-pool-domain-1631790671\n"
     ]
    }
   ],
   "source": [
    "user_pool_domain_name = 'groundtruth-user-pool-domain-{}'.format(timestamp)\n",
    "\n",
    "try:\n",
    "    ### BEGIN SOLUTION - DO NOT delete this comment for grading purposes\n",
    "    cognito_idp.create_user_pool_domain( # Replace None  \n",
    "        UserPoolId=user_pool_id, # Replace None\n",
    "        Domain=user_pool_domain_name # Replace None\n",
    "    ### END SOLUTION - DO NOT delete this comment for grading purposes\n",
    "    )\n",
    "    print(\"Created Amazon Cognito user pool domain: {}\".format(user_pool_domain_name))\n",
    "except:\n",
    "    print(\"Amazon Cognito user pool domain {} already exists\".format(user_pool_domain_name))"
   ]
  },
  {
   "cell_type": "markdown",
   "metadata": {},
   "source": [
    "You will use the following function to check if the Amazon Cognito user group already exists."
   ]
  },
  {
   "cell_type": "code",
   "execution_count": 9,
   "metadata": {},
   "outputs": [],
   "source": [
    "def check_user_pool_group_existence(user_pool_id, user_pool_group_name):  \n",
    "    for group in cognito_idp.list_groups(UserPoolId=user_pool_id)['Groups']:\n",
    "        if user_pool_group_name == group['GroupName']:\n",
    "            return True\n",
    "    return False"
   ]
  },
  {
   "cell_type": "markdown",
   "metadata": {},
   "source": [
    "<a name='c3w3-ex-4'></a>\n",
    "### Exercise 4\n",
    "\n",
    "Set up Amazon Cognito user group.\n",
    "\n",
    "**Instructions**: Pass the user pool ID and the user group name into the function `cognito_idp.create_group`."
   ]
  },
  {
   "cell_type": "code",
   "execution_count": 10,
   "metadata": {},
   "outputs": [
    {
     "name": "stdout",
     "output_type": "stream",
     "text": [
      "Created Amazon Cognito user group: groundtruth-user-pool-group-1631790671\n"
     ]
    }
   ],
   "source": [
    "user_pool_group_name = 'groundtruth-user-pool-group-{}'.format(timestamp)\n",
    "\n",
    "if not check_user_pool_group_existence(user_pool_id, user_pool_group_name):\n",
    "    ### BEGIN SOLUTION - DO NOT delete this comment for grading purposes\n",
    "    cognito_idp.create_group( # Replace None\n",
    "        UserPoolId=user_pool_id, # Replace None\n",
    "        GroupName=user_pool_group_name # Replace None\n",
    "    ### END SOLUTION - DO NOT delete this comment for grading purposes\n",
    "    )\n",
    "    print(\"Created Amazon Cognito user group: {}\".format(user_pool_group_name))\n",
    "else:\n",
    "    print(\"Amazon Cognito user group {} already exists\".format(user_pool_group_name))"
   ]
  },
  {
   "cell_type": "markdown",
   "metadata": {},
   "source": [
    "<a name='c3w3-1.4.'></a>\n",
    "### 1.4. Create workforce and workteam\n",
    "\n",
    "Use the following function to check if the workforce already exists. You can only create one workforce per region, therefore you'll have to delete any other existing workforce, together with all of the related workteams."
   ]
  },
  {
   "cell_type": "code",
   "execution_count": 11,
   "metadata": {},
   "outputs": [],
   "source": [
    "def check_workforce_existence(workforce_name):  \n",
    "    for workforce in sm.list_workforces()['Workforces']:\n",
    "        if workforce_name == workforce['WorkforceName']:\n",
    "            return True\n",
    "        else:\n",
    "            for workteam in sm.list_workteams()['Workteams']:\n",
    "                sm.delete_workteam(WorkteamName=workteam['WorkteamName'])\n",
    "            sm.delete_workforce(WorkforceName=workforce['WorkforceName'])\n",
    "    return False"
   ]
  },
  {
   "cell_type": "markdown",
   "metadata": {},
   "source": [
    "<a name='c3w3-ex-5'></a>\n",
    "### Exercise 5\n",
    "\n",
    "Create a workforce.\n",
    "\n",
    "**Instructions**: Pass the Amazon Cognito user pool ID and client ID into the Cognito configuration of the function `sm.create_workforce`."
   ]
  },
  {
   "cell_type": "code",
   "execution_count": 12,
   "metadata": {},
   "outputs": [
    {
     "name": "stdout",
     "output_type": "stream",
     "text": [
      "Workforce name: groundtruth-workforce-name-1631790671\n",
      "{'ResponseMetadata': {'HTTPHeaders': {'content-length': '107',\n",
      "                                      'content-type': 'application/x-amz-json-1.1',\n",
      "                                      'date': 'Thu, 16 Sep 2021 11:11:22 GMT',\n",
      "                                      'x-amzn-requestid': 'f22c98c6-031c-424b-9464-072878f2890b'},\n",
      "                      'HTTPStatusCode': 200,\n",
      "                      'RequestId': 'f22c98c6-031c-424b-9464-072878f2890b',\n",
      "                      'RetryAttempts': 0},\n",
      " 'WorkforceArn': 'arn:aws:sagemaker:us-east-1:851223673325:workforce/groundtruth-workforce-name-1631790671'}\n"
     ]
    }
   ],
   "source": [
    "workforce_name = 'groundtruth-workforce-name-{}'.format(timestamp)\n",
    "\n",
    "if not check_workforce_existence(workforce_name):\n",
    "    create_workforce_response = sm.create_workforce(\n",
    "        WorkforceName=workforce_name,\n",
    "        CognitoConfig={\n",
    "            ### BEGIN SOLUTION - DO NOT delete this comment for grading purposes\n",
    "            'UserPool': user_pool_id, # Replace None\n",
    "            'ClientId': client_id # Replace None\n",
    "            ### END SOLUTION - DO NOT delete this comment for grading purposes\n",
    "        }\n",
    "    )\n",
    "    print(\"Workforce name: {}\".format(workforce_name))\n",
    "    pprint(create_workforce_response)\n",
    "else:\n",
    "    print(\"Workforce {} already exists\".format(workforce_name))"
   ]
  },
  {
   "cell_type": "markdown",
   "metadata": {},
   "source": [
    "You can use the `sm.describe_workforce` function to get the information about the workforce."
   ]
  },
  {
   "cell_type": "code",
   "execution_count": 13,
   "metadata": {},
   "outputs": [
    {
     "data": {
      "text/plain": [
       "{'Workforce': {'WorkforceName': 'groundtruth-workforce-name-1631790671',\n",
       "  'WorkforceArn': 'arn:aws:sagemaker:us-east-1:851223673325:workforce/groundtruth-workforce-name-1631790671',\n",
       "  'LastUpdatedDate': datetime.datetime(2021, 9, 16, 11, 11, 22, 680000, tzinfo=tzlocal()),\n",
       "  'SourceIpConfig': {'Cidrs': []},\n",
       "  'SubDomain': 'dxqlr8tnmi.labeling.us-east-1.sagemaker.aws',\n",
       "  'CognitoConfig': {'UserPool': 'us-east-1_rw9sRDG9N',\n",
       "   'ClientId': '7le038ibueq6rau0lu6ipffiok'},\n",
       "  'CreateDate': datetime.datetime(2021, 9, 16, 11, 11, 22, 680000, tzinfo=tzlocal())},\n",
       " 'ResponseMetadata': {'RequestId': '23d9f53b-71ac-42e3-a14a-31fb413e6207',\n",
       "  'HTTPStatusCode': 200,\n",
       "  'HTTPHeaders': {'x-amzn-requestid': '23d9f53b-71ac-42e3-a14a-31fb413e6207',\n",
       "   'content-type': 'application/x-amz-json-1.1',\n",
       "   'content-length': '443',\n",
       "   'date': 'Thu, 16 Sep 2021 11:11:22 GMT'},\n",
       "  'RetryAttempts': 0}}"
      ]
     },
     "execution_count": 13,
     "metadata": {},
     "output_type": "execute_result"
    }
   ],
   "source": [
    "describe_workforce_response = sm.describe_workforce(WorkforceName=workforce_name)\n",
    "describe_workforce_response"
   ]
  },
  {
   "cell_type": "markdown",
   "metadata": {},
   "source": [
    "Use the following function to check if the workteam already exists. If there are no workteams in the list, give some time for the workforce to set up."
   ]
  },
  {
   "cell_type": "code",
   "execution_count": 14,
   "metadata": {},
   "outputs": [],
   "source": [
    "def check_workteam_existence(workteam_name):  \n",
    "    if sm.list_workteams()['Workteams']:\n",
    "        for workteam in sm.list_workteams()['Workteams']:\n",
    "            if workteam_name == workteam['WorkteamName']:\n",
    "                return True\n",
    "    else:\n",
    "        time.sleep(60)\n",
    "        return False\n",
    "    return False"
   ]
  },
  {
   "cell_type": "markdown",
   "metadata": {},
   "source": [
    "<a name='c3w3-ex-6'></a>\n",
    "### Exercise 6\n",
    "\n",
    "Create a workteam.\n",
    "\n",
    "**Instructions**: Pass the Amazon Cognito user pool ID, client ID, and group name into the Cognito member definition of the function `sm.create_workteam`.\n",
    "\n",
    "### _This cell may take 1-2 minutes to run._"
   ]
  },
  {
   "cell_type": "code",
   "execution_count": 15,
   "metadata": {},
   "outputs": [
    {
     "name": "stdout",
     "output_type": "stream",
     "text": [
      "{'ResponseMetadata': {'HTTPHeaders': {'content-length': '113',\n",
      "                                      'content-type': 'application/x-amz-json-1.1',\n",
      "                                      'date': 'Thu, 16 Sep 2021 11:12:25 GMT',\n",
      "                                      'x-amzn-requestid': '301b83c9-a1c5-4508-b6fa-9ba878c993a4'},\n",
      "                      'HTTPStatusCode': 200,\n",
      "                      'RequestId': '301b83c9-a1c5-4508-b6fa-9ba878c993a4',\n",
      "                      'RetryAttempts': 0},\n",
      " 'WorkteamArn': 'arn:aws:sagemaker:us-east-1:851223673325:workteam/private-crowd/groundtruth-workteam-1631790671'}\n"
     ]
    }
   ],
   "source": [
    "workteam_name = 'groundtruth-workteam-{}'.format(timestamp)\n",
    "\n",
    "if not check_workteam_existence(workteam_name):\n",
    "    create_workteam_response = sm.create_workteam(\n",
    "        Description='groundtruth workteam',\n",
    "        WorkforceName=workforce_name,\n",
    "        WorkteamName=workteam_name,\n",
    "        # objects that identify the workers that make up the work team\n",
    "        MemberDefinitions=[{\n",
    "            'CognitoMemberDefinition': {\n",
    "                ### BEGIN SOLUTION - DO NOT delete this comment for grading purposes\n",
    "                'UserPool': user_pool_id, # Replace None\n",
    "                'ClientId': client_id, # Replace None\n",
    "                'UserGroup': user_pool_group_name # Replace None\n",
    "                ### END SOLUTION - DO NOT delete this comment for grading purposes\n",
    "            }\n",
    "        }]\n",
    "    )\n",
    "    pprint(create_workteam_response)\n",
    "else:\n",
    "    print(\"Workteam {} already exists\".format(workteam_name))"
   ]
  },
  {
   "cell_type": "markdown",
   "metadata": {},
   "source": [
    "You can use `sm.describe_workteam` function to get information about the workteam."
   ]
  },
  {
   "cell_type": "code",
   "execution_count": 16,
   "metadata": {},
   "outputs": [
    {
     "data": {
      "text/plain": [
       "{'Workteam': {'WorkteamName': 'groundtruth-workteam-1631790671',\n",
       "  'MemberDefinitions': [{'CognitoMemberDefinition': {'UserPool': 'us-east-1_rw9sRDG9N',\n",
       "     'UserGroup': 'groundtruth-user-pool-group-1631790671',\n",
       "     'ClientId': '7le038ibueq6rau0lu6ipffiok'}}],\n",
       "  'WorkteamArn': 'arn:aws:sagemaker:us-east-1:851223673325:workteam/private-crowd/groundtruth-workteam-1631790671',\n",
       "  'Description': 'groundtruth workteam',\n",
       "  'SubDomain': 'dxqlr8tnmi.labeling.us-east-1.sagemaker.aws',\n",
       "  'CreateDate': datetime.datetime(2021, 9, 16, 11, 12, 25, 738000, tzinfo=tzlocal()),\n",
       "  'LastUpdatedDate': datetime.datetime(2021, 9, 16, 11, 12, 25, 738000, tzinfo=tzlocal()),\n",
       "  'NotificationConfiguration': {}},\n",
       " 'ResponseMetadata': {'RequestId': '5dcc42b9-5f96-4e06-96ca-ee76ae166f1c',\n",
       "  'HTTPStatusCode': 200,\n",
       "  'HTTPHeaders': {'x-amzn-requestid': '5dcc42b9-5f96-4e06-96ca-ee76ae166f1c',\n",
       "   'content-type': 'application/x-amz-json-1.1',\n",
       "   'content-length': '544',\n",
       "   'date': 'Thu, 16 Sep 2021 11:12:25 GMT'},\n",
       "  'RetryAttempts': 0}}"
      ]
     },
     "execution_count": 16,
     "metadata": {},
     "output_type": "execute_result"
    }
   ],
   "source": [
    "describe_workteam_response = sm.describe_workteam(WorkteamName=workteam_name)\n",
    "describe_workteam_response"
   ]
  },
  {
   "cell_type": "markdown",
   "metadata": {},
   "source": [
    "Now you can pull the workteam ARN either from `create_workteam_response` or `describe_workteam_response`."
   ]
  },
  {
   "cell_type": "code",
   "execution_count": 17,
   "metadata": {},
   "outputs": [
    {
     "data": {
      "text/plain": [
       "'arn:aws:sagemaker:us-east-1:851223673325:workteam/private-crowd/groundtruth-workteam-1631790671'"
      ]
     },
     "execution_count": 17,
     "metadata": {},
     "output_type": "execute_result"
    }
   ],
   "source": [
    "workteam_arn = describe_workteam_response['Workteam']['WorkteamArn']\n",
    "workteam_arn"
   ]
  },
  {
   "cell_type": "markdown",
   "metadata": {},
   "source": [
    "Review the created workteam in the AWS console.\n",
    "\n",
    "**Instructions**:\n",
    "\n",
    "- open the link\n",
    "- notice that you are in the section Amazon SageMaker -> Labeling workforces\n",
    "- check the name of the workteam, its Amazon Cognito user group and ARN"
   ]
  },
  {
   "cell_type": "code",
   "execution_count": 18,
   "metadata": {},
   "outputs": [
    {
     "data": {
      "text/html": [
       "<b>Review <a target=\"blank\" href=\"https://us-east-1.console.aws.amazon.com/sagemaker/groundtruth?region=us-east-1#/labeling-workforces/private-details/groundtruth-workteam-1631790671\">workteam</a></b>"
      ],
      "text/plain": [
       "<IPython.core.display.HTML object>"
      ]
     },
     "metadata": {},
     "output_type": "display_data"
    }
   ],
   "source": [
    "from IPython.core.display import display, HTML\n",
    "\n",
    "display(HTML('<b>Review <a target=\"blank\" href=\"https://{}.console.aws.amazon.com/sagemaker/groundtruth?region={}#/labeling-workforces/private-details/{}\">workteam</a></b>'.format(region, region, workteam_name)))"
   ]
  },
  {
   "cell_type": "markdown",
   "metadata": {},
   "source": [
    "<a name='c3w3-1.5.'></a>\n",
    "### 1.5. Create an Amazon Cognito user and add the user to the group\n",
    "\n",
    "Use the following function to check if the Amazon Cognito user already exists."
   ]
  },
  {
   "cell_type": "code",
   "execution_count": 19,
   "metadata": {},
   "outputs": [],
   "source": [
    "def check_user_existence(user_pool_id, user_name):  \n",
    "    for user in cognito_idp.list_users(UserPoolId=user_pool_id)['Users']:\n",
    "        if user_name == user['Username']:\n",
    "            return True\n",
    "    return False"
   ]
  },
  {
   "cell_type": "markdown",
   "metadata": {},
   "source": [
    "Create a user passing the username, temporary password, and the Amazon Cognito user pool ID."
   ]
  },
  {
   "cell_type": "code",
   "execution_count": 20,
   "metadata": {},
   "outputs": [
    {
     "name": "stdout",
     "output_type": "stream",
     "text": [
      "{'ResponseMetadata': {'HTTPHeaders': {'connection': 'keep-alive',\n",
      "                                      'content-length': '242',\n",
      "                                      'content-type': 'application/x-amz-json-1.1',\n",
      "                                      'date': 'Thu, 16 Sep 2021 11:12:45 GMT',\n",
      "                                      'x-amzn-requestid': '301757b1-63f7-47db-8bcc-8b1709a51a75'},\n",
      "                      'HTTPStatusCode': 200,\n",
      "                      'RequestId': '301757b1-63f7-47db-8bcc-8b1709a51a75',\n",
      "                      'RetryAttempts': 0},\n",
      " 'User': {'Attributes': [{'Name': 'sub',\n",
      "                          'Value': 'f145d327-7efa-45ad-9c97-53ecddecb963'}],\n",
      "          'Enabled': True,\n",
      "          'UserCreateDate': datetime.datetime(2021, 9, 16, 11, 12, 45, 779000, tzinfo=tzlocal()),\n",
      "          'UserLastModifiedDate': datetime.datetime(2021, 9, 16, 11, 12, 45, 779000, tzinfo=tzlocal()),\n",
      "          'UserStatus': 'FORCE_CHANGE_PASSWORD',\n",
      "          'Username': 'user-1631790671'}}\n"
     ]
    }
   ],
   "source": [
    "user_name = 'user-{}'.format(timestamp)\n",
    "\n",
    "temporary_password = 'Password@420'\n",
    "\n",
    "if not check_user_existence(user_pool_id, user_name):\n",
    "    create_user_response=cognito_idp.admin_create_user(\n",
    "        Username=user_name,\n",
    "        UserPoolId=user_pool_id,\n",
    "        TemporaryPassword=temporary_password,\n",
    "        MessageAction='SUPPRESS' # suppress sending the invitation message to a user that already exists\n",
    "    )\n",
    "    pprint(create_user_response)\n",
    "else:\n",
    "    print(\"Amazon Cognito user {} already exists\".format(user_name))"
   ]
  },
  {
   "cell_type": "markdown",
   "metadata": {},
   "source": [
    "Add the user into the Amazon Cognito user group."
   ]
  },
  {
   "cell_type": "code",
   "execution_count": 21,
   "metadata": {},
   "outputs": [
    {
     "data": {
      "text/plain": [
       "{'ResponseMetadata': {'RequestId': '0372ed46-09d9-45a1-8bbc-fd30cb6ae88a',\n",
       "  'HTTPStatusCode': 200,\n",
       "  'HTTPHeaders': {'date': 'Thu, 16 Sep 2021 11:12:46 GMT',\n",
       "   'content-type': 'application/x-amz-json-1.1',\n",
       "   'content-length': '0',\n",
       "   'connection': 'keep-alive',\n",
       "   'x-amzn-requestid': '0372ed46-09d9-45a1-8bbc-fd30cb6ae88a'},\n",
       "  'RetryAttempts': 0}}"
      ]
     },
     "execution_count": 21,
     "metadata": {},
     "output_type": "execute_result"
    }
   ],
   "source": [
    "cognito_idp.admin_add_user_to_group(\n",
    "    UserPoolId=user_pool_id,\n",
    "    Username=user_name,\n",
    "    GroupName=user_pool_group_name\n",
    ")"
   ]
  },
  {
   "cell_type": "markdown",
   "metadata": {},
   "source": [
    "<a name='c3w3-2.'></a>\n",
    "# 2. Create Human Task UI\n",
    "\n",
    "<img src=\"images/human-loop-workflow-2-taskUI.png\" width=\"40%\" align=\"center\">\n",
    "\n",
    "Create a Human Task UI resource, using a worker task UI template.  This template will be rendered to the human workers whenever human interaction is required.\n",
    "\n",
    "Below there is a simple demo template provided, that is compatible with the current use case of classifying product reviews into the three sentiment classes. For other pre-built UIs (there are 70+), check: https://github.com/aws-samples/amazon-a2i-sample-task-uis"
   ]
  },
  {
   "cell_type": "code",
   "execution_count": 22,
   "metadata": {},
   "outputs": [],
   "source": [
    "template = r\"\"\"\n",
    "<script src=\"https://assets.crowd.aws/crowd-html-elements.js\"></script>\n",
    "\n",
    "<crowd-form>\n",
    "    <crowd-classifier name=\"sentiment\"\n",
    "                      categories=\"['-1', '0', '1']\"\n",
    "                      initial-value=\"{{ task.input.initialValue }}\"\n",
    "                      header=\"Classify Reviews into Sentiment:  -1 (negative), 0 (neutral), and 1 (positive)\">\n",
    "      \n",
    "        <classification-target>\n",
    "            {{ task.input.taskObject }}\n",
    "        </classification-target>\n",
    "      \n",
    "        <full-instructions header=\"Classify reviews into sentiment:  -1 (negative), 0 (neutral), and 1 (positive)\">\n",
    "            <p><strong>1</strong>: joy, excitement, delight</p>       \n",
    "            <p><strong>0</strong>: neither positive or negative, such as stating a fact</p>\n",
    "            <p><strong>-1</strong>: anger, sarcasm, anxiety</p>\n",
    "        </full-instructions>\n",
    "\n",
    "        <short-instructions>\n",
    "            Classify reviews into sentiment:  -1 (negative), 0 (neutral), and 1 (positive)\n",
    "        </short-instructions>\n",
    "    </crowd-classifier>\n",
    "</crowd-form>\n",
    "\"\"\""
   ]
  },
  {
   "cell_type": "markdown",
   "metadata": {},
   "source": [
    "<a name='c3w3-ex-7'></a>\n",
    "### Exercise 7\n",
    "\n",
    "Create a human task UI resource.\n",
    "\n",
    "**Instructions**: Pass the worker task UI template defined above as the content of the UI template parameter to the function `sm.create_human_task_ui`."
   ]
  },
  {
   "cell_type": "code",
   "execution_count": 23,
   "metadata": {},
   "outputs": [
    {
     "data": {
      "text/plain": [
       "{'HumanTaskUiArn': 'arn:aws:sagemaker:us-east-1:851223673325:human-task-ui/ui-1631790671',\n",
       " 'ResponseMetadata': {'RequestId': '570a22d8-6fbc-431f-ac46-5cddad1d2da6',\n",
       "  'HTTPStatusCode': 200,\n",
       "  'HTTPHeaders': {'x-amzn-requestid': '570a22d8-6fbc-431f-ac46-5cddad1d2da6',\n",
       "   'content-type': 'application/x-amz-json-1.1',\n",
       "   'content-length': '89',\n",
       "   'date': 'Thu, 16 Sep 2021 11:12:48 GMT'},\n",
       "  'RetryAttempts': 0}}"
      ]
     },
     "execution_count": 23,
     "metadata": {},
     "output_type": "execute_result"
    }
   ],
   "source": [
    "# Task UI name - this value is unique per account and region. You can also provide your own value here.\n",
    "task_ui_name = 'ui-{}'.format(timestamp)\n",
    "\n",
    "human_task_ui_response = sm.create_human_task_ui(\n",
    "    HumanTaskUiName=task_ui_name,\n",
    "    UiTemplate={\n",
    "        ### BEGIN SOLUTION - DO NOT delete this comment for grading purposes\n",
    "        \"Content\": template  # Replace None\n",
    "        ### END SOLUTION - DO NOT delete this comment for grading purposes\n",
    "    }\n",
    ")\n",
    "human_task_ui_response"
   ]
  },
  {
   "cell_type": "markdown",
   "metadata": {},
   "source": [
    "Pull the ARN of the human task UI:"
   ]
  },
  {
   "cell_type": "code",
   "execution_count": 24,
   "metadata": {},
   "outputs": [
    {
     "name": "stdout",
     "output_type": "stream",
     "text": [
      "arn:aws:sagemaker:us-east-1:851223673325:human-task-ui/ui-1631790671\n"
     ]
    }
   ],
   "source": [
    "human_task_ui_arn = human_task_ui_response[\"HumanTaskUiArn\"]\n",
    "print(human_task_ui_arn)"
   ]
  },
  {
   "cell_type": "markdown",
   "metadata": {},
   "source": [
    "<a name='c3w3-3.'></a>\n",
    "# 3. Define human review workflow\n",
    "\n",
    "<img src=\"images/human-loop-workflow-3-review.png\" width=\"40%\" align=\"center\">"
   ]
  },
  {
   "cell_type": "markdown",
   "metadata": {},
   "source": [
    "In this section, you are going to create a Flow Definition. Flow Definitions allow you to specify:\n",
    "\n",
    "- The workforce (in fact, it is a workteam) that your tasks will be sent to.\n",
    "- The instructions that your workforce will receive (worker task template).\n",
    "- The configuration of your worker tasks, including the number of workers that receive a task and time limits to complete tasks.\n",
    "- Where your output data will be stored.\n",
    "\n",
    "Here you are going to use the API, but you can optionally create this workflow definition in the console as well. \n",
    "\n",
    "For more details and instructions, see: https://docs.aws.amazon.com/sagemaker/latest/dg/a2i-create-flow-definition.html.\n",
    "\n",
    "Let's construct the S3 bucket output path."
   ]
  },
  {
   "cell_type": "code",
   "execution_count": 25,
   "metadata": {},
   "outputs": [
    {
     "name": "stdout",
     "output_type": "stream",
     "text": [
      "s3://sagemaker-us-east-1-851223673325/a2i-results-1631790671\n"
     ]
    }
   ],
   "source": [
    "output_path = 's3://{}/a2i-results-{}'.format(bucket, timestamp)\n",
    "print(output_path)"
   ]
  },
  {
   "cell_type": "markdown",
   "metadata": {},
   "source": [
    "<a name='c3w3-ex-8'></a>\n",
    "### Exercise 8\n",
    "\n",
    "Construct the Flow Definition with the workteam and human task UI in the human loop configurations that you created above.\n",
    "\n",
    "**Instructions**: Pass the workteam and human task UI ARNs into the `HumanLoopConfig` dictionary within the function `sm.create_flow_definition`. Review the other parameters."
   ]
  },
  {
   "cell_type": "code",
   "execution_count": 26,
   "metadata": {},
   "outputs": [],
   "source": [
    "# Flow definition name - this value is unique per account and region\n",
    "flow_definition_name = 'fd-{}'.format(timestamp)\n",
    "\n",
    "create_workflow_definition_response = sm.create_flow_definition(\n",
    "    FlowDefinitionName=flow_definition_name,\n",
    "    RoleArn=role,\n",
    "    HumanLoopConfig={\n",
    "        ### BEGIN SOLUTION - DO NOT delete this comment for grading purposes\n",
    "        \"WorkteamArn\": workteam_arn, # Replace None\n",
    "        \"HumanTaskUiArn\": human_task_ui_arn, # Replace None\n",
    "        ### END SOLUTION - DO NOT delete this comment for grading purposes\n",
    "        \"TaskCount\": 1, # the number of workers that receive a task\n",
    "        \"TaskDescription\": \"Classify Reviews into sentiment:  -1 (negative), 0 (neutral), 1 (positive)\",\n",
    "        \"TaskTitle\": \"Classify Reviews into sentiment:  -1 (negative), 0 (neutral), 1 (positive)\",\n",
    "    },\n",
    "    OutputConfig={\"S3OutputPath\": output_path},\n",
    ")\n",
    "\n",
    "augmented_ai_flow_definition_arn = create_workflow_definition_response[\"FlowDefinitionArn\"]"
   ]
  },
  {
   "cell_type": "markdown",
   "metadata": {},
   "source": [
    "You can pull information about the Flow Definition with the function `sm.describe_flow_definition` and wait for its status value `FlowDefinitionStatus` to become `Active`."
   ]
  },
  {
   "cell_type": "code",
   "execution_count": 27,
   "metadata": {
    "scrolled": true
   },
   "outputs": [
    {
     "name": "stdout",
     "output_type": "stream",
     "text": [
      "Initializing\n",
      "Active\n",
      "Flow Definition is active\n"
     ]
    }
   ],
   "source": [
    "for _ in range(60):\n",
    "    describe_flow_definition_response = sm.describe_flow_definition(FlowDefinitionName=flow_definition_name)\n",
    "    print(describe_flow_definition_response[\"FlowDefinitionStatus\"])\n",
    "    if describe_flow_definition_response[\"FlowDefinitionStatus\"] == \"Active\":\n",
    "        print(\"Flow Definition is active\")\n",
    "        break\n",
    "    time.sleep(2)"
   ]
  },
  {
   "cell_type": "markdown",
   "metadata": {},
   "source": [
    "<a name='c3w3-4.'></a>\n",
    "# 4. Start human loop with custom ML model"
   ]
  },
  {
   "cell_type": "markdown",
   "metadata": {},
   "source": [
    "<img src=\"images/human-loop-workflow-4-start.png\" width=\"40%\" align=\"center\">\n",
    "\n",
    "Deploy a custom ML model into an endpoint and call it to predict labels for some sample reviews. Check the confidence score for each prediction. If it is smaller than the threshold, engage your workforce for a human review, starting a human loop. Fix the labels by completing the human loop tasks and review the results.\n",
    "\n",
    "<img src=\"images/augmented-ai-loop.png\" width=\"60%\" align=\"center\">"
   ]
  },
  {
   "cell_type": "markdown",
   "metadata": {},
   "source": [
    "<a name='c3w3-4.1.'></a>\n",
    "### 4.1. Deploy a custom model\n",
    "\n",
    "Set up a sentiment predictor class to be wrapped later into the PyTorch Model.\n",
    "\n",
    "<a name='c3w3-ex-9'></a>\n",
    "### Exercise 9\n",
    "\n",
    "Create a Sentiment Predictor class.\n",
    "\n",
    "**Instructions**: Pass the JSON serializer and deserializer objects here, calling them with the functions `JSONLinesSerializer()` and `JSONLinesDeserializer()`, respectively. More information about the serializers can be found [here](https://sagemaker.readthedocs.io/en/stable/api/inference/serializers.html)."
   ]
  },
  {
   "cell_type": "code",
   "execution_count": 28,
   "metadata": {},
   "outputs": [],
   "source": [
    "from sagemaker.predictor import Predictor\n",
    "from sagemaker.serializers import JSONLinesSerializer\n",
    "from sagemaker.deserializers import JSONLinesDeserializer\n",
    "\n",
    "class SentimentPredictor(Predictor):\n",
    "    def __init__(self, endpoint_name, sagemaker_session):\n",
    "        super().__init__(\n",
    "            endpoint_name, \n",
    "            sagemaker_session=sagemaker_session,\n",
    "            ### BEGIN SOLUTION - DO NOT delete this comment for grading purposes\n",
    "            serializer=JSONLinesSerializer(), # Replace None\n",
    "            deserializer=JSONLinesDeserializer() # Replace None\n",
    "            ### END SOLUTION - DO NOT delete this comment for grading purposes\n",
    "        )"
   ]
  },
  {
   "cell_type": "markdown",
   "metadata": {},
   "source": [
    "Create a SageMaker model based on the model artifact saved in the S3 bucket."
   ]
  },
  {
   "cell_type": "code",
   "execution_count": 29,
   "metadata": {},
   "outputs": [],
   "source": [
    "from sagemaker.pytorch.model import PyTorchModel\n",
    "\n",
    "pytorch_model_name = 'model-{}'.format(timestamp)\n",
    "\n",
    "model = PyTorchModel(name=pytorch_model_name,\n",
    "                     model_data='s3://dlai-practical-data-science/models/ab/variant_a/model.tar.gz',\n",
    "                     predictor_cls=SentimentPredictor,\n",
    "                     entry_point='inference.py',\n",
    "                     source_dir='src',\n",
    "                     framework_version='1.6.0',\n",
    "                     py_version='py3',\n",
    "                     role=role)"
   ]
  },
  {
   "cell_type": "markdown",
   "metadata": {},
   "source": [
    "Now you will create a SageMaker Endpoint from the model. For the purposes of this lab, you will use a relatively small instance type. Please refer to [this link](https://aws.amazon.com/sagemaker/pricing/) for additional instance types that may work for your use cases outside of this lab.\n",
    "\n",
    "### _This cell will take approximately 5-10 minutes to run._"
   ]
  },
  {
   "cell_type": "code",
   "execution_count": 30,
   "metadata": {},
   "outputs": [
    {
     "name": "stdout",
     "output_type": "stream",
     "text": [
      "-----------------!CPU times: user 2min 15s, sys: 10.8 s, total: 2min 25s\n",
      "Wall time: 10min 53s\n"
     ]
    }
   ],
   "source": [
    "%%time\n",
    "\n",
    "pytorch_endpoint_name = 'endpoint-{}'.format(timestamp)\n",
    "\n",
    "predictor = model.deploy(initial_instance_count=1, \n",
    "                         instance_type='ml.m5.large', \n",
    "                         endpoint_name=pytorch_endpoint_name)"
   ]
  },
  {
   "cell_type": "markdown",
   "metadata": {},
   "source": [
    "You can review the endpoint in the AWS console and check its status."
   ]
  },
  {
   "cell_type": "code",
   "execution_count": 31,
   "metadata": {},
   "outputs": [
    {
     "data": {
      "text/html": [
       "<b>Review <a target=\"blank\" href=\"https://console.aws.amazon.com/sagemaker/home?region=us-east-1#/endpoints/endpoint-1631790671\">SageMaker REST Endpoint</a></b>"
      ],
      "text/plain": [
       "<IPython.core.display.HTML object>"
      ]
     },
     "metadata": {},
     "output_type": "display_data"
    }
   ],
   "source": [
    "from IPython.core.display import display, HTML\n",
    "\n",
    "display(HTML('<b>Review <a target=\"blank\" href=\"https://console.aws.amazon.com/sagemaker/home?region={}#/endpoints/{}\">SageMaker REST Endpoint</a></b>'.format(region, pytorch_endpoint_name)))"
   ]
  },
  {
   "cell_type": "markdown",
   "metadata": {},
   "source": [
    "<a name='c3w3-4.2.'></a>\n",
    "### 4.2. Start the human loop"
   ]
  },
  {
   "cell_type": "markdown",
   "metadata": {},
   "source": [
    "Let's create a list of sample reviews."
   ]
  },
  {
   "cell_type": "code",
   "execution_count": 32,
   "metadata": {},
   "outputs": [],
   "source": [
    "reviews = [\"I enjoy this product\", \n",
    "           \"I am unhappy with this product\", \n",
    "           \"It is okay\", \n",
    "           \"sometimes it works\"]"
   ]
  },
  {
   "cell_type": "markdown",
   "metadata": {},
   "source": [
    "Now you can send each of the sample reviews to the model via the `predictor.predict()` API call. Note that you need to pass the reviews in the JSON format that model expects as input. Then, you parse the model's response to obtain the predicted label and the confidence score. \n",
    "\n",
    "After that, you check the condition for when you want to engage a human for review. You can check whether the returned confidence score is under the defined threshold of 90%, which would mean that you would want to start the human loop with the predicted label and the review as inputs. Finally, you start the human loop passing the input content and Flow Definition defined above."
   ]
  },
  {
   "cell_type": "markdown",
   "metadata": {},
   "source": [
    "<a name='c3w3-ex-10'></a>\n",
    "### Exercise 10\n",
    "\n",
    "Complete the dictionary `input_content`, which should contain the original prediction (`'initialValue'` key) and review text (`'taskObject'` key)."
   ]
  },
  {
   "cell_type": "code",
   "execution_count": 41,
   "metadata": {},
   "outputs": [
    {
     "name": "stdout",
     "output_type": "stream",
     "text": [
      "[{'probability': 0.9376369118690491, 'predicted_label': 1}]\n",
      "Checking prediction confidence 0.9376369118690491 for sample review: \"I enjoy this product\"\n",
      "Confidence score of 93.76369118690491% for star rating of 1 is above threshold of 90.0%\n",
      "Human loop not needed. \n",
      "\n",
      "[{'probability': 0.6340296864509583, 'predicted_label': -1}]\n",
      "Checking prediction confidence 0.6340296864509583 for sample review: \"I am unhappy with this product\"\n",
      "Confidence score of 63.402968645095825% for prediction of -1 is less than the threshold of 90.0%\n",
      "*** ==> Starting human loop with name: 1631792290-4894407  \n",
      "\n",
      "[{'probability': 0.5422114729881287, 'predicted_label': 1}]\n",
      "Checking prediction confidence 0.5422114729881287 for sample review: \"It is okay\"\n",
      "Confidence score of 54.221147298812866% for prediction of 1 is less than the threshold of 90.0%\n",
      "*** ==> Starting human loop with name: 1631792291-0051627  \n",
      "\n",
      "[{'probability': 0.3931102454662323, 'predicted_label': 1}]\n",
      "Checking prediction confidence 0.3931102454662323 for sample review: \"sometimes it works\"\n",
      "Confidence score of 39.31102454662323% for prediction of 1 is less than the threshold of 90.0%\n",
      "*** ==> Starting human loop with name: 1631792291-5234158  \n",
      "\n"
     ]
    }
   ],
   "source": [
    "import json\n",
    "\n",
    "human_loops_started = []\n",
    "\n",
    "CONFIDENCE_SCORE_THRESHOLD = 0.90\n",
    "\n",
    "for review in reviews:\n",
    "    inputs = [\n",
    "        {\"features\": [review]},\n",
    "    ]\n",
    "\n",
    "    response = predictor.predict(inputs)\n",
    "    print(response)\n",
    "    prediction = response[0]['predicted_label']\n",
    "    confidence_score = response[0]['probability']\n",
    "\n",
    "    print('Checking prediction confidence {} for sample review: \"{}\"'.format(confidence_score, review))\n",
    "\n",
    "    # condition for when you want to engage a human for review\n",
    "    if confidence_score < CONFIDENCE_SCORE_THRESHOLD:\n",
    "        human_loop_name = str(time.time()).replace('.', '-') # using milliseconds\n",
    "        input_content = {\n",
    "            ### BEGIN SOLUTION - DO NOT delete this comment for grading purposes\n",
    "            \"initialValue\": prediction, # Replace None\n",
    "            \"taskObject\": review # Replace None\n",
    "            ### END SOLUTION - DO NOT delete this comment for grading purposes\n",
    "        }\n",
    "        start_loop_response = a2i.start_human_loop(\n",
    "            HumanLoopName=human_loop_name,\n",
    "            FlowDefinitionArn=augmented_ai_flow_definition_arn,\n",
    "            HumanLoopInput={\"InputContent\": json.dumps(input_content)},\n",
    "        )\n",
    "\n",
    "        human_loops_started.append(human_loop_name)\n",
    "\n",
    "        print(\n",
    "            f\"Confidence score of {confidence_score * 100}% for prediction of {prediction} is less than the threshold of {CONFIDENCE_SCORE_THRESHOLD * 100}%\"\n",
    "        )\n",
    "        print(f\"*** ==> Starting human loop with name: {human_loop_name}  \\n\")\n",
    "    else:\n",
    "        print(\n",
    "            f\"Confidence score of {confidence_score * 100}% for star rating of {prediction} is above threshold of {CONFIDENCE_SCORE_THRESHOLD * 100}%\"\n",
    "        )\n",
    "        print(\"Human loop not needed. \\n\")"
   ]
  },
  {
   "cell_type": "markdown",
   "metadata": {},
   "source": [
    "Review the results above. Three of the sample reviews with the probability scores lower than the threshold went into the human loop. The original predicted labels are passed together with the review text and will be seen in the task."
   ]
  },
  {
   "cell_type": "markdown",
   "metadata": {},
   "source": [
    "<a name='c3w3-4.3.'></a>\n",
    "### 4.3. Check status of the human loop\n",
    "\n",
    "Function `a2i.describe_human_loop` can be used to pull the information about the human loop."
   ]
  },
  {
   "cell_type": "code",
   "execution_count": 42,
   "metadata": {},
   "outputs": [
    {
     "name": "stdout",
     "output_type": "stream",
     "text": [
      "HumanLoop Name: 1631792290-4894407\n",
      "HumanLoop Status: InProgress\n",
      "HumanLoop Output Destination: {'OutputS3Uri': 's3://sagemaker-us-east-1-851223673325/a2i-results-1631790671/fd-1631790671/2021/09/16/11/38/10/1631792290-4894407/output.json'}\n",
      "\n",
      "HumanLoop Name: 1631792291-0051627\n",
      "HumanLoop Status: InProgress\n",
      "HumanLoop Output Destination: {'OutputS3Uri': 's3://sagemaker-us-east-1-851223673325/a2i-results-1631790671/fd-1631790671/2021/09/16/11/38/11/1631792291-0051627/output.json'}\n",
      "\n",
      "HumanLoop Name: 1631792291-5234158\n",
      "HumanLoop Status: InProgress\n",
      "HumanLoop Output Destination: {'OutputS3Uri': 's3://sagemaker-us-east-1-851223673325/a2i-results-1631790671/fd-1631790671/2021/09/16/11/38/11/1631792291-5234158/output.json'}\n",
      "\n"
     ]
    }
   ],
   "source": [
    "completed_human_loops = []\n",
    "for human_loop_name in human_loops_started:\n",
    "    resp = a2i.describe_human_loop(HumanLoopName=human_loop_name)\n",
    "    print(f\"HumanLoop Name: {human_loop_name}\")\n",
    "    print(f'HumanLoop Status: {resp[\"HumanLoopStatus\"]}')\n",
    "    print(f'HumanLoop Output Destination: {resp[\"HumanLoopOutput\"]}')\n",
    "    print(\"\")\n",
    "\n",
    "    if resp[\"HumanLoopStatus\"] == \"Completed\":\n",
    "        completed_human_loops.append(resp)"
   ]
  },
  {
   "cell_type": "markdown",
   "metadata": {},
   "source": [
    "<a name='c3w3-4.4.'></a>\n",
    "### 4.4. Complete the human loop tasks\n",
    "\n",
    "Pull labeling UI from the workteam information to get into the human loop tasks in the AWS console."
   ]
  },
  {
   "cell_type": "code",
   "execution_count": 43,
   "metadata": {},
   "outputs": [
    {
     "name": "stdout",
     "output_type": "stream",
     "text": [
      "dxqlr8tnmi.labeling.us-east-1.sagemaker.aws\n"
     ]
    }
   ],
   "source": [
    "labeling_ui = sm.describe_workteam(WorkteamName=workteam_name)[\"Workteam\"][\"SubDomain\"]\n",
    "print(labeling_ui)"
   ]
  },
  {
   "cell_type": "markdown",
   "metadata": {},
   "source": [
    "Navigate to the link below and login with the defined username and password. Complete the human loop following the provided instructions."
   ]
  },
  {
   "cell_type": "code",
   "execution_count": 44,
   "metadata": {},
   "outputs": [
    {
     "data": {
      "text/html": [
       "Click <a target=\"blank\" href=\"https://dxqlr8tnmi.labeling.us-east-1.sagemaker.aws\"><b>here</b></a> to start labeling with username <b>user-1631790671</b> and temporary password <b>Password@420</b>"
      ],
      "text/plain": [
       "<IPython.core.display.HTML object>"
      ]
     },
     "metadata": {},
     "output_type": "display_data"
    }
   ],
   "source": [
    "from IPython.core.display import display, HTML\n",
    "\n",
    "display(HTML('Click <a target=\"blank\" href=\"https://{}\"><b>here</b></a> to start labeling with username <b>{}</b> and temporary password <b>{}</b>'.format(labeling_ui, user_name, temporary_password)))"
   ]
  },
  {
   "cell_type": "markdown",
   "metadata": {},
   "source": [
    "<img src=\"images/label-data-job-instructions.png\" width=\"80%\" align=\"center\">"
   ]
  },
  {
   "cell_type": "markdown",
   "metadata": {},
   "source": [
    "_Wait for workers to complete ^^ their human loop tasks ^^_"
   ]
  },
  {
   "cell_type": "markdown",
   "metadata": {},
   "source": [
    "<a name='c3w3-4.5.'></a>\n",
    "### 4.5. Verify that the human loops were completed by the workforce\n",
    "\n",
    "## _Note:  This cell will not complete until you label the data following the instructions above._"
   ]
  },
  {
   "cell_type": "code",
   "execution_count": 45,
   "metadata": {},
   "outputs": [
    {
     "name": "stdout",
     "output_type": "stream",
     "text": [
      "HumanLoop Name: 1631792290-4894407\n",
      "HumanLoop Status: Completed\n",
      "HumanLoop Output Destination: {'OutputS3Uri': 's3://sagemaker-us-east-1-851223673325/a2i-results-1631790671/fd-1631790671/2021/09/16/11/38/10/1631792290-4894407/output.json'}\n",
      "\n",
      "Completed!\n",
      "\n",
      "HumanLoop Name: 1631792291-0051627\n",
      "HumanLoop Status: Completed\n",
      "HumanLoop Output Destination: {'OutputS3Uri': 's3://sagemaker-us-east-1-851223673325/a2i-results-1631790671/fd-1631790671/2021/09/16/11/38/11/1631792291-0051627/output.json'}\n",
      "\n",
      "Completed!\n",
      "\n",
      "HumanLoop Name: 1631792291-5234158\n",
      "HumanLoop Status: Completed\n",
      "HumanLoop Output Destination: {'OutputS3Uri': 's3://sagemaker-us-east-1-851223673325/a2i-results-1631790671/fd-1631790671/2021/09/16/11/38/11/1631792291-5234158/output.json'}\n",
      "\n",
      "Completed!\n",
      "\n"
     ]
    }
   ],
   "source": [
    "import time\n",
    "\n",
    "completed_human_loops = []\n",
    "for human_loop_name in human_loops_started:\n",
    "    resp = a2i.describe_human_loop(HumanLoopName=human_loop_name)\n",
    "    print(f\"HumanLoop Name: {human_loop_name}\")\n",
    "    print(f'HumanLoop Status: {resp[\"HumanLoopStatus\"]}')\n",
    "    print(f'HumanLoop Output Destination: {resp[\"HumanLoopOutput\"]}')\n",
    "    print(\"\")\n",
    "    while resp[\"HumanLoopStatus\"] != \"Completed\":\n",
    "        print(f\"Waiting for HumanLoop to complete.\")\n",
    "        time.sleep(10)\n",
    "        resp = a2i.describe_human_loop(HumanLoopName=human_loop_name)\n",
    "    if resp[\"HumanLoopStatus\"] == \"Completed\":\n",
    "        completed_human_loops.append(resp)\n",
    "        print(f\"Completed!\")\n",
    "        print(\"\")"
   ]
  },
  {
   "cell_type": "markdown",
   "metadata": {},
   "source": [
    "## _Note:  This cell ^^ above ^^ will not complete until you label the data following the instructions above._"
   ]
  },
  {
   "cell_type": "markdown",
   "metadata": {},
   "source": [
    "<a name='c3w3-4.6.'></a>\n",
    "### 4.6. View human labels and prepare the data for re-training"
   ]
  },
  {
   "cell_type": "markdown",
   "metadata": {},
   "source": [
    "Once the work is complete, Amazon A2I stores the results in the specified S3 bucket and sends a Cloudwatch Event.  Let's check the S3 contents."
   ]
  },
  {
   "cell_type": "code",
   "execution_count": 46,
   "metadata": {
    "scrolled": true
   },
   "outputs": [
    {
     "name": "stdout",
     "output_type": "stream",
     "text": [
      "{'flowDefinitionArn': 'arn:aws:sagemaker:us-east-1:851223673325:flow-definition/fd-1631790671',\n",
      " 'humanAnswers': [{'acceptanceTime': '2021-09-16T11:38:47.892Z',\n",
      "                   'answerContent': {'sentiment': {'label': '-1'}},\n",
      "                   'submissionTime': '2021-09-16T11:38:51.184Z',\n",
      "                   'timeSpentInSeconds': 3.292,\n",
      "                   'workerId': 'b2f4b452471f9dfe',\n",
      "                   'workerMetadata': {'identityData': {'identityProviderType': 'Cognito',\n",
      "                                                       'issuer': 'https://cognito-idp.us-east-1.amazonaws.com/us-east-1_rw9sRDG9N',\n",
      "                                                       'sub': 'f145d327-7efa-45ad-9c97-53ecddecb963'}}}],\n",
      " 'humanLoopName': '1631792290-4894407',\n",
      " 'inputContent': {'initialValue': -1,\n",
      "                  'taskObject': 'I am unhappy with this product'}}\n",
      "{'flowDefinitionArn': 'arn:aws:sagemaker:us-east-1:851223673325:flow-definition/fd-1631790671',\n",
      " 'humanAnswers': [{'acceptanceTime': '2021-09-16T11:38:51.255Z',\n",
      "                   'answerContent': {'sentiment': {'label': '1'}},\n",
      "                   'submissionTime': '2021-09-16T11:38:52.801Z',\n",
      "                   'timeSpentInSeconds': 1.546,\n",
      "                   'workerId': 'b2f4b452471f9dfe',\n",
      "                   'workerMetadata': {'identityData': {'identityProviderType': 'Cognito',\n",
      "                                                       'issuer': 'https://cognito-idp.us-east-1.amazonaws.com/us-east-1_rw9sRDG9N',\n",
      "                                                       'sub': 'f145d327-7efa-45ad-9c97-53ecddecb963'}}}],\n",
      " 'humanLoopName': '1631792291-0051627',\n",
      " 'inputContent': {'initialValue': 1, 'taskObject': 'It is okay'}}\n",
      "{'flowDefinitionArn': 'arn:aws:sagemaker:us-east-1:851223673325:flow-definition/fd-1631790671',\n",
      " 'humanAnswers': [{'acceptanceTime': '2021-09-16T11:38:25.478Z',\n",
      "                   'answerContent': {'sentiment': {'label': '0'}},\n",
      "                   'submissionTime': '2021-09-16T11:38:47.825Z',\n",
      "                   'timeSpentInSeconds': 22.347,\n",
      "                   'workerId': 'b2f4b452471f9dfe',\n",
      "                   'workerMetadata': {'identityData': {'identityProviderType': 'Cognito',\n",
      "                                                       'issuer': 'https://cognito-idp.us-east-1.amazonaws.com/us-east-1_rw9sRDG9N',\n",
      "                                                       'sub': 'f145d327-7efa-45ad-9c97-53ecddecb963'}}}],\n",
      " 'humanLoopName': '1631792291-5234158',\n",
      " 'inputContent': {'initialValue': 1, 'taskObject': 'sometimes it works'}}\n"
     ]
    }
   ],
   "source": [
    "import re\n",
    "from pprint import pprint\n",
    "\n",
    "fixed_items = []\n",
    "\n",
    "for resp in completed_human_loops:\n",
    "    split_string = re.split(\"s3://\" + bucket + \"/\", resp[\"HumanLoopOutput\"][\"OutputS3Uri\"])\n",
    "    output_bucket_key = split_string[1]\n",
    "\n",
    "    response = s3.get_object(Bucket=bucket, Key=output_bucket_key)\n",
    "    content = response[\"Body\"].read().decode(\"utf-8\")\n",
    "    json_output = json.loads(content)\n",
    "    pprint(json_output)\n",
    "\n",
    "    input_content = json_output[\"inputContent\"]\n",
    "    human_answer = json_output[\"humanAnswers\"][0][\"answerContent\"]\n",
    "    fixed_item = {\"input_content\": input_content, \"human_answer\": human_answer}\n",
    "    fixed_items.append(fixed_item)"
   ]
  },
  {
   "cell_type": "markdown",
   "metadata": {},
   "source": [
    "Now you can prepare the data for re-training."
   ]
  },
  {
   "cell_type": "code",
   "execution_count": 47,
   "metadata": {},
   "outputs": [
    {
     "data": {
      "text/html": [
       "<div>\n",
       "<style scoped>\n",
       "    .dataframe tbody tr th:only-of-type {\n",
       "        vertical-align: middle;\n",
       "    }\n",
       "\n",
       "    .dataframe tbody tr th {\n",
       "        vertical-align: top;\n",
       "    }\n",
       "\n",
       "    .dataframe thead th {\n",
       "        text-align: right;\n",
       "    }\n",
       "</style>\n",
       "<table border=\"1\" class=\"dataframe\">\n",
       "  <thead>\n",
       "    <tr style=\"text-align: right;\">\n",
       "      <th></th>\n",
       "      <th>input_content</th>\n",
       "      <th>human_answer</th>\n",
       "    </tr>\n",
       "  </thead>\n",
       "  <tbody>\n",
       "    <tr>\n",
       "      <th>0</th>\n",
       "      <td>{'initialValue': -1, 'taskObject': 'I am unhap...</td>\n",
       "      <td>{'sentiment': {'label': '-1'}}</td>\n",
       "    </tr>\n",
       "    <tr>\n",
       "      <th>1</th>\n",
       "      <td>{'initialValue': 1, 'taskObject': 'It is okay'}</td>\n",
       "      <td>{'sentiment': {'label': '1'}}</td>\n",
       "    </tr>\n",
       "    <tr>\n",
       "      <th>2</th>\n",
       "      <td>{'initialValue': 1, 'taskObject': 'sometimes i...</td>\n",
       "      <td>{'sentiment': {'label': '0'}}</td>\n",
       "    </tr>\n",
       "  </tbody>\n",
       "</table>\n",
       "</div>"
      ],
      "text/plain": [
       "                                       input_content  \\\n",
       "0  {'initialValue': -1, 'taskObject': 'I am unhap...   \n",
       "1    {'initialValue': 1, 'taskObject': 'It is okay'}   \n",
       "2  {'initialValue': 1, 'taskObject': 'sometimes i...   \n",
       "\n",
       "                     human_answer  \n",
       "0  {'sentiment': {'label': '-1'}}  \n",
       "1   {'sentiment': {'label': '1'}}  \n",
       "2   {'sentiment': {'label': '0'}}  "
      ]
     },
     "execution_count": 47,
     "metadata": {},
     "output_type": "execute_result"
    }
   ],
   "source": [
    "df_fixed_items = pd.DataFrame(fixed_items)  \n",
    "df_fixed_items.head()"
   ]
  },
  {
   "cell_type": "markdown",
   "metadata": {},
   "source": [
    "Upload the notebook into S3 bucket for grading purposes.\n",
    "\n",
    "**Note:** you may need to click on \"Save\" button before the upload."
   ]
  },
  {
   "cell_type": "code",
   "execution_count": 48,
   "metadata": {},
   "outputs": [
    {
     "name": "stdout",
     "output_type": "stream",
     "text": [
      "upload: ./C3_W3_Assignment.ipynb to s3://sagemaker-us-east-1-851223673325/C3_W3_Assignment_Learner.ipynb\n"
     ]
    }
   ],
   "source": [
    "!aws s3 cp ./C3_W3_Assignment.ipynb s3://$bucket/C3_W3_Assignment_Learner.ipynb"
   ]
  },
  {
   "cell_type": "code",
   "execution_count": null,
   "metadata": {},
   "outputs": [],
   "source": []
  }
 ],
 "metadata": {
  "instance_type": "ml.t3.medium",
  "kernelspec": {
   "display_name": "Python 3 (Data Science)",
   "language": "python",
   "name": "python3__SAGEMAKER_INTERNAL__arn:aws:sagemaker:us-east-1:081325390199:image/datascience-1.0"
  },
  "language_info": {
   "codemirror_mode": {
    "name": "ipython",
    "version": 3
   },
   "file_extension": ".py",
   "mimetype": "text/x-python",
   "name": "python",
   "nbconvert_exporter": "python",
   "pygments_lexer": "ipython3",
   "version": "3.7.10"
  }
 },
 "nbformat": 4,
 "nbformat_minor": 4
}
